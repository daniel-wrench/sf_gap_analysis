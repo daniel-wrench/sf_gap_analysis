{
 "cells": [
  {
   "cell_type": "markdown",
   "metadata": {},
   "source": [
    "# Apply correction factor to Voyager data (for real)\n",
    "\n",
    "CORRELATION LENGTH = 17 DAYS"
   ]
  },
  {
   "cell_type": "code",
   "execution_count": 1,
   "metadata": {},
   "outputs": [],
   "source": [
    "import numpy as np\n",
    "import pandas as pd\n",
    "import math as m\n",
    "import pickle\n",
    "from matplotlib import pyplot as plt\n",
    "from matplotlib import gridspec\n",
    "import matplotlib.dates as mdates\n",
    "\n",
    "import sys\n",
    "import os\n",
    "\n",
    "sys.path.append(os.path.abspath(\"..\"))\n",
    "# So that I can read in the src files while working here in the notebooks/ folder"
   ]
  },
  {
   "cell_type": "code",
   "execution_count": 2,
   "metadata": {},
   "outputs": [],
   "source": [
    "import src.utils as utils\n",
    "import src.params as params\n",
    "import src.sf_funcs as sf\n",
    "\n",
    "# Set matplotlib font size\n",
    "plt.rc(\"text\", usetex=True)\n",
    "plt.rc(\"font\", family=\"serif\", serif=\"Computer Modern\", size=10)\n",
    "\n",
    "plt.rcParams[\"xtick.direction\"] = \"in\"\n",
    "plt.rcParams[\"ytick.direction\"] = \"in\""
   ]
  },
  {
   "cell_type": "code",
   "execution_count": 3,
   "metadata": {},
   "outputs": [
    {
     "name": "stdout",
     "output_type": "stream",
     "text": [
      "<class 'pandas.core.frame.DataFrame'>\n",
      "DatetimeIndex: 7461001 entries, 2012-08-25 00:00:00 to 2023-12-31 00:00:00\n",
      "Freq: 48s\n",
      "Data columns (total 4 columns):\n",
      " #   Column  Dtype  \n",
      "---  ------  -----  \n",
      " 0   F1      float32\n",
      " 1   BR      float32\n",
      " 2   BT      float32\n",
      " 3   BN      float32\n",
      "dtypes: float32(4)\n",
      "memory usage: 170.8 MB\n"
     ]
    }
   ],
   "source": [
    "# Read in cleaned Voyager 1 data\n",
    "df = pd.read_pickle(\"../data/interim/voyager/voyager1_lism_cleaned.pkl\")\n",
    "df.info()"
   ]
  },
  {
   "cell_type": "code",
   "execution_count": 4,
   "metadata": {},
   "outputs": [
    {
     "data": {
      "text/plain": [
       "<Axes: >"
      ]
     },
     "execution_count": 4,
     "metadata": {},
     "output_type": "execute_result"
    },
    {
     "data": {
      "image/png": "[encoded data removed]",
      "text/plain": [
       "<Figure size 640x480 with 1 Axes>"
      ]
     },
     "metadata": {},
     "output_type": "display_data"
    }
   ],
   "source": [
    "df[:5000].plot()"
   ]
  },
  {
   "cell_type": "code",
   "execution_count": 5,
   "metadata": {},
   "outputs": [
    {
     "name": "stdout",
     "output_type": "stream",
     "text": [
      "F1    0.723359\n",
      "BR    0.723359\n",
      "BT    0.723359\n",
      "BN    0.723359\n",
      "dtype: float64\n"
     ]
    }
   ],
   "source": [
    "# Proportion of missing data\n",
    "print(df.isna().sum() / len(df[\"F1\"]))"
   ]
  },
  {
   "cell_type": "markdown",
   "metadata": {},
   "source": [
    "## Extract interval D1"
   ]
  },
  {
   "cell_type": "code",
   "execution_count": 6,
   "metadata": {},
   "outputs": [
    {
     "name": "stdout",
     "output_type": "stream",
     "text": [
      "<class 'pandas.core.frame.DataFrame'>\n",
      "DatetimeIndex: 288001 entries, 2012-08-25 00:00:00 to 2013-02-01 00:00:00\n",
      "Freq: 48s\n",
      "Data columns (total 4 columns):\n",
      " #   Column  Non-Null Count  Dtype  \n",
      "---  ------  --------------  -----  \n",
      " 0   F1      68334 non-null  float32\n",
      " 1   BR      68334 non-null  float32\n",
      " 2   BT      68334 non-null  float32\n",
      " 3   BN      68334 non-null  float32\n",
      "dtypes: float32(4)\n",
      "memory usage: 6.6 MB\n"
     ]
    }
   ],
   "source": [
    "# Extract a 170-day interval using a datetime offset\n",
    "start_date = pd.Timestamp(\"2012-08-15\")\n",
    "end_date = start_date + pd.DateOffset(days=170)\n",
    "int = df[start_date:end_date]\n",
    "\n",
    "int.info()"
   ]
  },
  {
   "cell_type": "markdown",
   "metadata": {},
   "source": [
    "## Computing standardised SFs\n",
    "\n",
    "i.e. from intervals of 10,000 points across 10 correlation lengths, calculated up to lag 2,000.\n",
    "Integral corr length `tc` has already been defined above."
   ]
  },
  {
   "cell_type": "code",
   "execution_count": 7,
   "metadata": {},
   "outputs": [],
   "source": [
    "tc = 17 * 24 * 3600  # (17 days in seconds)\n",
    "\n",
    "tc_n = 10\n",
    "interval_length = params.int_length\n",
    "new_cadence = tc_n * tc / interval_length\n",
    "\n",
    "lags = np.arange(1, params.max_lag_prop * params.int_length)\n",
    "powers = [2]\n",
    "file_index = 0\n",
    "int_index = 1\n",
    "version = 0"
   ]
  },
  {
   "cell_type": "code",
   "execution_count": 8,
   "metadata": {},
   "outputs": [
    {
     "name": "stdout",
     "output_type": "stream",
     "text": [
      "<class 'pandas.core.frame.DataFrame'>\n",
      "DatetimeIndex: 243824 entries, 2012-08-25 00:00:00 to 2023-12-30 23:47:02.400000\n",
      "Freq: 1468800ms\n",
      "Data columns (total 4 columns):\n",
      " #   Column  Non-Null Count  Dtype  \n",
      "---  ------  --------------  -----  \n",
      " 0   F1      75169 non-null  float32\n",
      " 1   BR      75169 non-null  float32\n",
      " 2   BT      75169 non-null  float32\n",
      " 3   BN      75169 non-null  float32\n",
      "dtypes: float32(4)\n",
      "memory usage: 5.6 MB\n"
     ]
    }
   ],
   "source": [
    "df_std = df.resample(str(np.round(new_cadence, 3)) + \"s\").mean()\n",
    "df_std.info()"
   ]
  },
  {
   "cell_type": "code",
   "execution_count": 9,
   "metadata": {},
   "outputs": [
    {
     "data": {
      "text/plain": [
       "24"
      ]
     },
     "execution_count": 9,
     "metadata": {},
     "output_type": "execute_result"
    }
   ],
   "source": [
    "m.floor(len(df_std) / interval_length)"
   ]
  },
  {
   "cell_type": "markdown",
   "metadata": {},
   "source": [
    "We should have 24 intervals of 10,000 points each, each covering 10 correlation times."
   ]
  },
  {
   "cell_type": "code",
   "execution_count": 10,
   "metadata": {},
   "outputs": [],
   "source": [
    "del df"
   ]
  },
  {
   "cell_type": "code",
   "execution_count": 11,
   "metadata": {},
   "outputs": [
    {
     "name": "stdout",
     "output_type": "stream",
     "text": [
      "<class 'pandas.core.frame.DataFrame'>\n",
      "DatetimeIndex: 10000 entries, 2013-02-11 00:00:00 to 2013-07-30 23:35:31.200000\n",
      "Freq: 1468800ms\n",
      "Data columns (total 4 columns):\n",
      " #   Column  Non-Null Count  Dtype  \n",
      "---  ------  --------------  -----  \n",
      " 0   F1      5151 non-null   float32\n",
      " 1   BR      5151 non-null   float32\n",
      " 2   BT      5151 non-null   float32\n",
      " 3   BN      5151 non-null   float32\n",
      "dtypes: float32(4)\n",
      "memory usage: 234.4 KB\n"
     ]
    }
   ],
   "source": [
    "# Extract an interval\n",
    "int_std = df_std[int_index * interval_length : (int_index + 1) * interval_length]\n",
    "int_std.info()"
   ]
  },
  {
   "cell_type": "code",
   "execution_count": 12,
   "metadata": {},
   "outputs": [
    {
     "data": {
      "application/vnd.microsoft.datawrangler.viewer.v0+json": {
       "columns": [
        {
         "name": "index",
         "rawType": "object",
         "type": "string"
        },
        {
         "name": "F1",
         "rawType": "float64",
         "type": "float"
        },
        {
         "name": "BR",
         "rawType": "float64",
         "type": "float"
        },
        {
         "name": "BT",
         "rawType": "float64",
         "type": "float"
        },
        {
         "name": "BN",
         "rawType": "float64",
         "type": "float"
        }
       ],
       "conversionMethod": "pd.DataFrame",
       "ref": "6904677e-9724-4d08-9540-0dc1f4d3e12c",
       "rows": [
        [
         "count",
         "5151.0",
         "5151.0",
         "5151.0",
         "5151.0"
        ],
        [
         "mean",
         "0.4842686057090759",
         "0.16605786979198456",
         "-0.4145364761352539",
         "0.1867566704750061"
        ],
        [
         "std",
         "0.021206358447670937",
         "0.013827466405928135",
         "0.01621091179549694",
         "0.012505448423326015"
        ],
        [
         "min",
         "0.43270108103752136",
         "0.136967733502388",
         "-0.470344215631485",
         "0.14648713171482086"
        ],
        [
         "25%",
         "0.4662448465824127",
         "0.15402832627296448",
         "-0.4257720708847046",
         "0.17767789959907532"
        ],
        [
         "50%",
         "0.48108598589897156",
         "0.162758007645607",
         "-0.41298967599868774",
         "0.18611134588718414"
        ],
        [
         "75%",
         "0.5003899931907654",
         "0.17872659862041473",
         "-0.4022659659385681",
         "0.1948358118534088"
        ],
        [
         "max",
         "0.5519552826881409",
         "0.19787000119686127",
         "-0.3790976405143738",
         "0.22862450778484344"
        ]
       ],
       "shape": {
        "columns": 4,
        "rows": 8
       }
      },
      "text/html": [
       "<div>\n",
       "<style scoped>\n",
       "    .dataframe tbody tr th:only-of-type {\n",
       "        vertical-align: middle;\n",
       "    }\n",
       "\n",
       "    .dataframe tbody tr th {\n",
       "        vertical-align: top;\n",
       "    }\n",
       "\n",
       "    .dataframe thead th {\n",
       "        text-align: right;\n",
       "    }\n",
       "</style>\n",
       "<table border=\"1\" class=\"dataframe\">\n",
       "  <thead>\n",
       "    <tr style=\"text-align: right;\">\n",
       "      <th></th>\n",
       "      <th>F1</th>\n",
       "      <th>BR</th>\n",
       "      <th>BT</th>\n",
       "      <th>BN</th>\n",
       "    </tr>\n",
       "  </thead>\n",
       "  <tbody>\n",
       "    <tr>\n",
       "      <th>count</th>\n",
       "      <td>5151.000000</td>\n",
       "      <td>5151.000000</td>\n",
       "      <td>5151.000000</td>\n",
       "      <td>5151.000000</td>\n",
       "    </tr>\n",
       "    <tr>\n",
       "      <th>mean</th>\n",
       "      <td>0.484269</td>\n",
       "      <td>0.166058</td>\n",
       "      <td>-0.414536</td>\n",
       "      <td>0.186757</td>\n",
       "    </tr>\n",
       "    <tr>\n",
       "      <th>std</th>\n",
       "      <td>0.021206</td>\n",
       "      <td>0.013827</td>\n",
       "      <td>0.016211</td>\n",
       "      <td>0.012505</td>\n",
       "    </tr>\n",
       "    <tr>\n",
       "      <th>min</th>\n",
       "      <td>0.432701</td>\n",
       "      <td>0.136968</td>\n",
       "      <td>-0.470344</td>\n",
       "      <td>0.146487</td>\n",
       "    </tr>\n",
       "    <tr>\n",
       "      <th>25%</th>\n",
       "      <td>0.466245</td>\n",
       "      <td>0.154028</td>\n",
       "      <td>-0.425772</td>\n",
       "      <td>0.177678</td>\n",
       "    </tr>\n",
       "    <tr>\n",
       "      <th>50%</th>\n",
       "      <td>0.481086</td>\n",
       "      <td>0.162758</td>\n",
       "      <td>-0.412990</td>\n",
       "      <td>0.186111</td>\n",
       "    </tr>\n",
       "    <tr>\n",
       "      <th>75%</th>\n",
       "      <td>0.500390</td>\n",
       "      <td>0.178727</td>\n",
       "      <td>-0.402266</td>\n",
       "      <td>0.194836</td>\n",
       "    </tr>\n",
       "    <tr>\n",
       "      <th>max</th>\n",
       "      <td>0.551955</td>\n",
       "      <td>0.197870</td>\n",
       "      <td>-0.379098</td>\n",
       "      <td>0.228625</td>\n",
       "    </tr>\n",
       "  </tbody>\n",
       "</table>\n",
       "</div>"
      ],
      "text/plain": [
       "                F1           BR           BT           BN\n",
       "count  5151.000000  5151.000000  5151.000000  5151.000000\n",
       "mean      0.484269     0.166058    -0.414536     0.186757\n",
       "std       0.021206     0.013827     0.016211     0.012505\n",
       "min       0.432701     0.136968    -0.470344     0.146487\n",
       "25%       0.466245     0.154028    -0.425772     0.177678\n",
       "50%       0.481086     0.162758    -0.412990     0.186111\n",
       "75%       0.500390     0.178727    -0.402266     0.194836\n",
       "max       0.551955     0.197870    -0.379098     0.228625"
      ]
     },
     "execution_count": 12,
     "metadata": {},
     "output_type": "execute_result"
    }
   ],
   "source": [
    "int_std.describe()"
   ]
  },
  {
   "cell_type": "code",
   "execution_count": 13,
   "metadata": {},
   "outputs": [
    {
     "data": {
      "text/plain": [
       "[<matplotlib.lines.Line2D at 0x16db5ace1d0>,\n",
       " <matplotlib.lines.Line2D at 0x16db5ace830>,\n",
       " <matplotlib.lines.Line2D at 0x16db5acead0>,\n",
       " <matplotlib.lines.Line2D at 0x16db84d1180>]"
      ]
     },
     "execution_count": 13,
     "metadata": {},
     "output_type": "execute_result"
    },
    {
     "data": {
      "image/png": "[encoded data removed]",
      "text/plain": [
       "<Figure size 640x480 with 1 Axes>"
      ]
     },
     "metadata": {},
     "output_type": "display_data"
    }
   ],
   "source": [
    "plt.plot(int_std)"
   ]
  },
  {
   "cell_type": "code",
   "execution_count": 14,
   "metadata": {},
   "outputs": [
    {
     "data": {
      "application/vnd.microsoft.datawrangler.viewer.v0+json": {
       "columns": [
        {
         "name": "index",
         "rawType": "object",
         "type": "string"
        },
        {
         "name": "BR",
         "rawType": "float64",
         "type": "float"
        },
        {
         "name": "BT",
         "rawType": "float64",
         "type": "float"
        },
        {
         "name": "BN",
         "rawType": "float64",
         "type": "float"
        }
       ],
       "conversionMethod": "pd.DataFrame",
       "ref": "d2edf540-8dc5-4299-87ae-a205ca540aca",
       "rows": [
        [
         "count",
         "5151.0",
         "5151.0",
         "5151.0"
        ],
        [
         "mean",
         "4.369651794433594",
         "-32.08784103393555",
         "6.486774444580078"
        ],
        [
         "std",
         "1.0",
         "1.0",
         "0.9999999403953552"
        ],
        [
         "min",
         "2.2658581733703613",
         "-35.53044509887695",
         "3.2666141986846924"
        ],
        [
         "25%",
         "3.499677896499634",
         "-32.78092956542969",
         "5.760788917541504"
        ],
        [
         "50%",
         "4.131006240844727",
         "-31.992422103881836",
         "6.4351701736450195"
        ],
        [
         "75%",
         "5.285852432250977",
         "-31.330909729003906",
         "7.1328229904174805"
        ],
        [
         "max",
         "6.670299530029297",
         "-29.901729583740234",
         "9.834741592407227"
        ]
       ],
       "shape": {
        "columns": 3,
        "rows": 8
       }
      },
      "text/html": [
       "<div>\n",
       "<style scoped>\n",
       "    .dataframe tbody tr th:only-of-type {\n",
       "        vertical-align: middle;\n",
       "    }\n",
       "\n",
       "    .dataframe tbody tr th {\n",
       "        vertical-align: top;\n",
       "    }\n",
       "\n",
       "    .dataframe thead th {\n",
       "        text-align: right;\n",
       "    }\n",
       "</style>\n",
       "<table border=\"1\" class=\"dataframe\">\n",
       "  <thead>\n",
       "    <tr style=\"text-align: right;\">\n",
       "      <th></th>\n",
       "      <th>BR</th>\n",
       "      <th>BT</th>\n",
       "      <th>BN</th>\n",
       "    </tr>\n",
       "  </thead>\n",
       "  <tbody>\n",
       "    <tr>\n",
       "      <th>count</th>\n",
       "      <td>5151.000000</td>\n",
       "      <td>5151.000000</td>\n",
       "      <td>5151.000000</td>\n",
       "    </tr>\n",
       "    <tr>\n",
       "      <th>mean</th>\n",
       "      <td>4.369652</td>\n",
       "      <td>-32.087841</td>\n",
       "      <td>6.486774</td>\n",
       "    </tr>\n",
       "    <tr>\n",
       "      <th>std</th>\n",
       "      <td>1.000000</td>\n",
       "      <td>1.000000</td>\n",
       "      <td>1.000000</td>\n",
       "    </tr>\n",
       "    <tr>\n",
       "      <th>min</th>\n",
       "      <td>2.265858</td>\n",
       "      <td>-35.530445</td>\n",
       "      <td>3.266614</td>\n",
       "    </tr>\n",
       "    <tr>\n",
       "      <th>25%</th>\n",
       "      <td>3.499678</td>\n",
       "      <td>-32.780930</td>\n",
       "      <td>5.760789</td>\n",
       "    </tr>\n",
       "    <tr>\n",
       "      <th>50%</th>\n",
       "      <td>4.131006</td>\n",
       "      <td>-31.992422</td>\n",
       "      <td>6.435170</td>\n",
       "    </tr>\n",
       "    <tr>\n",
       "      <th>75%</th>\n",
       "      <td>5.285852</td>\n",
       "      <td>-31.330910</td>\n",
       "      <td>7.132823</td>\n",
       "    </tr>\n",
       "    <tr>\n",
       "      <th>max</th>\n",
       "      <td>6.670300</td>\n",
       "      <td>-29.901730</td>\n",
       "      <td>9.834742</td>\n",
       "    </tr>\n",
       "  </tbody>\n",
       "</table>\n",
       "</div>"
      ],
      "text/plain": [
       "                BR           BT           BN\n",
       "count  5151.000000  5151.000000  5151.000000\n",
       "mean      4.369652   -32.087841     6.486774\n",
       "std       1.000000     1.000000     1.000000\n",
       "min       2.265858   -35.530445     3.266614\n",
       "25%       3.499678   -32.780930     5.760789\n",
       "50%       4.131006   -31.992422     6.435170\n",
       "75%       5.285852   -31.330910     7.132823\n",
       "max       6.670300   -29.901730     9.834742"
      ]
     },
     "execution_count": 14,
     "metadata": {},
     "output_type": "execute_result"
    }
   ],
   "source": [
    "int_norm = utils.normalize(int_std)\n",
    "bad_input = int_norm[[\"BR\", \"BT\", \"BN\"]]\n",
    "bad_input.describe()"
   ]
  },
  {
   "cell_type": "code",
   "execution_count": 15,
   "metadata": {},
   "outputs": [
    {
     "name": "stdout",
     "output_type": "stream",
     "text": [
      "Fraction missing:\n",
      "BR    0.4849\n",
      "BT    0.4849\n",
      "BN    0.4849\n",
      "dtype: float64\n"
     ]
    }
   ],
   "source": [
    "print(\"Fraction missing:\")\n",
    "\n",
    "print(bad_input.isna().sum() / len(bad_input[\"BR\"]))\n",
    "\n",
    "missing = bad_input[\"BR\"].isna().sum() / len(bad_input[\"BR\"])"
   ]
  },
  {
   "cell_type": "code",
   "execution_count": 16,
   "metadata": {},
   "outputs": [],
   "source": [
    "bad_output = sf.compute_sf(bad_input, lags, powers, False, False)\n",
    "bad_output[\"gap_handling\"] = \"naive\"\n",
    "bad_output[\"file_index\"] = file_index\n",
    "bad_output[\"int_index\"] = int_index\n",
    "bad_output[\"version\"] = version"
   ]
  },
  {
   "cell_type": "code",
   "execution_count": 17,
   "metadata": {},
   "outputs": [],
   "source": [
    "interp_input = (\n",
    "    bad_input.interpolate(method=\"linear\").ffill().bfill()\n",
    ")  # Linearly interpolate (and, in case of missing values at edges, back and forward fill)\n",
    "interp_output = sf.compute_sf(interp_input, lags, powers, False, False)"
   ]
  },
  {
   "cell_type": "code",
   "execution_count": 18,
   "metadata": {},
   "outputs": [],
   "source": [
    "interp_input_df = pd.DataFrame(interp_input)\n",
    "interp_input_df.reset_index(inplace=True)  # Make time a column, not an index\n",
    "\n",
    "interp_output[\"file_index\"] = 0\n",
    "interp_output[\"int_index\"] = int_index\n",
    "interp_output[\"version\"] = 0\n",
    "interp_output[\"gap_handling\"] = \"lint\"\n",
    "\n",
    "# Correcting sample size and uncertainty for linear interpolation, same values as no handling\n",
    "interp_output[\"n\"] = bad_output[\"n\"]\n",
    "interp_output[\"missing_percent\"] = bad_output[\"missing_percent\"]\n",
    "interp_output[\"sf_2_se\"] = bad_output[\"sf_2_se\"]"
   ]
  },
  {
   "cell_type": "code",
   "execution_count": 19,
   "metadata": {},
   "outputs": [],
   "source": [
    "n_bins = 25\n",
    "run_mode = \"full\"\n",
    "\n",
    "sfs_gapped = pd.concat([interp_output, bad_output])"
   ]
  },
  {
   "cell_type": "code",
   "execution_count": 20,
   "metadata": {},
   "outputs": [
    {
     "data": {
      "application/vnd.microsoft.datawrangler.viewer.v0+json": {
       "columns": [
        {
         "name": "index",
         "rawType": "float64",
         "type": "float"
        },
        {
         "name": "lag",
         "rawType": "float64",
         "type": "float"
        },
        {
         "name": "n",
         "rawType": "int64",
         "type": "integer"
        },
        {
         "name": "missing_percent",
         "rawType": "float64",
         "type": "float"
        },
        {
         "name": "sf_2",
         "rawType": "float32",
         "type": "float"
        },
        {
         "name": "sf_2_se",
         "rawType": "float64",
         "type": "float"
        },
        {
         "name": "file_index",
         "rawType": "int64",
         "type": "integer"
        },
        {
         "name": "int_index",
         "rawType": "int64",
         "type": "integer"
        },
        {
         "name": "version",
         "rawType": "int64",
         "type": "integer"
        },
        {
         "name": "gap_handling",
         "rawType": "object",
         "type": "string"
        }
       ],
       "conversionMethod": "pd.DataFrame",
       "ref": "48aeba0c-8474-4ba2-ae56-f17c5e8a283a",
       "rows": [
        [
         "1.0",
         "1.0",
         "4839",
         "51.605160516051605",
         "0.112755",
         "0.003401901276529441",
         "0",
         "1",
         "0",
         "lint"
        ],
        [
         "2.0",
         "2.0",
         "4552",
         "54.47089417883577",
         "0.1710668",
         "0.004995578428821375",
         "0",
         "1",
         "0",
         "lint"
        ],
        [
         "3.0",
         "3.0",
         "4286",
         "57.12713814144244",
         "0.21917629",
         "0.005933582275956765",
         "0",
         "1",
         "0",
         "lint"
        ],
        [
         "4.0",
         "4.0",
         "4040",
         "59.58383353341337",
         "0.2501415",
         "0.006531131638217686",
         "0",
         "1",
         "0",
         "lint"
        ],
        [
         "5.0",
         "5.0",
         "3811",
         "61.870935467733865",
         "0.28351754",
         "0.00745120753996699",
         "0",
         "1",
         "0",
         "lint"
        ]
       ],
       "shape": {
        "columns": 9,
        "rows": 5
       }
      },
      "text/html": [
       "<div>\n",
       "<style scoped>\n",
       "    .dataframe tbody tr th:only-of-type {\n",
       "        vertical-align: middle;\n",
       "    }\n",
       "\n",
       "    .dataframe tbody tr th {\n",
       "        vertical-align: top;\n",
       "    }\n",
       "\n",
       "    .dataframe thead th {\n",
       "        text-align: right;\n",
       "    }\n",
       "</style>\n",
       "<table border=\"1\" class=\"dataframe\">\n",
       "  <thead>\n",
       "    <tr style=\"text-align: right;\">\n",
       "      <th></th>\n",
       "      <th>lag</th>\n",
       "      <th>n</th>\n",
       "      <th>missing_percent</th>\n",
       "      <th>sf_2</th>\n",
       "      <th>sf_2_se</th>\n",
       "      <th>file_index</th>\n",
       "      <th>int_index</th>\n",
       "      <th>version</th>\n",
       "      <th>gap_handling</th>\n",
       "    </tr>\n",
       "  </thead>\n",
       "  <tbody>\n",
       "    <tr>\n",
       "      <th>1.0</th>\n",
       "      <td>1.0</td>\n",
       "      <td>4839</td>\n",
       "      <td>51.605161</td>\n",
       "      <td>0.112755</td>\n",
       "      <td>0.003402</td>\n",
       "      <td>0</td>\n",
       "      <td>1</td>\n",
       "      <td>0</td>\n",
       "      <td>lint</td>\n",
       "    </tr>\n",
       "    <tr>\n",
       "      <th>2.0</th>\n",
       "      <td>2.0</td>\n",
       "      <td>4552</td>\n",
       "      <td>54.470894</td>\n",
       "      <td>0.171067</td>\n",
       "      <td>0.004996</td>\n",
       "      <td>0</td>\n",
       "      <td>1</td>\n",
       "      <td>0</td>\n",
       "      <td>lint</td>\n",
       "    </tr>\n",
       "    <tr>\n",
       "      <th>3.0</th>\n",
       "      <td>3.0</td>\n",
       "      <td>4286</td>\n",
       "      <td>57.127138</td>\n",
       "      <td>0.219176</td>\n",
       "      <td>0.005934</td>\n",
       "      <td>0</td>\n",
       "      <td>1</td>\n",
       "      <td>0</td>\n",
       "      <td>lint</td>\n",
       "    </tr>\n",
       "    <tr>\n",
       "      <th>4.0</th>\n",
       "      <td>4.0</td>\n",
       "      <td>4040</td>\n",
       "      <td>59.583834</td>\n",
       "      <td>0.250142</td>\n",
       "      <td>0.006531</td>\n",
       "      <td>0</td>\n",
       "      <td>1</td>\n",
       "      <td>0</td>\n",
       "      <td>lint</td>\n",
       "    </tr>\n",
       "    <tr>\n",
       "      <th>5.0</th>\n",
       "      <td>5.0</td>\n",
       "      <td>3811</td>\n",
       "      <td>61.870935</td>\n",
       "      <td>0.283518</td>\n",
       "      <td>0.007451</td>\n",
       "      <td>0</td>\n",
       "      <td>1</td>\n",
       "      <td>0</td>\n",
       "      <td>lint</td>\n",
       "    </tr>\n",
       "  </tbody>\n",
       "</table>\n",
       "</div>"
      ],
      "text/plain": [
       "     lag     n  missing_percent      sf_2   sf_2_se  file_index  int_index  \\\n",
       "1.0  1.0  4839        51.605161  0.112755  0.003402           0          1   \n",
       "2.0  2.0  4552        54.470894  0.171067  0.004996           0          1   \n",
       "3.0  3.0  4286        57.127138  0.219176  0.005934           0          1   \n",
       "4.0  4.0  4040        59.583834  0.250142  0.006531           0          1   \n",
       "5.0  5.0  3811        61.870935  0.283518  0.007451           0          1   \n",
       "\n",
       "     version gap_handling  \n",
       "1.0        0         lint  \n",
       "2.0        0         lint  \n",
       "3.0        0         lint  \n",
       "4.0        0         lint  \n",
       "5.0        0         lint  "
      ]
     },
     "execution_count": 20,
     "metadata": {},
     "output_type": "execute_result"
    }
   ],
   "source": [
    "sfs_gapped.head()"
   ]
  },
  {
   "cell_type": "code",
   "execution_count": 21,
   "metadata": {},
   "outputs": [
    {
     "data": {
      "image/png": "[encoded data removed]",
      "text/plain": [
       "<Figure size 600x400 with 1 Axes>"
      ]
     },
     "metadata": {},
     "output_type": "display_data"
    }
   ],
   "source": [
    "# Plot the SFs\n",
    "fig, ax = plt.subplots(1, 1, figsize=(6, 4))\n",
    "\n",
    "ax.plot(\n",
    "    bad_output[\"lag\"],\n",
    "    bad_output[\"sf_2\"],\n",
    "    label=\"Linear Interpolation\",\n",
    "    color=\"blue\",\n",
    ")\n",
    "\n",
    "ax.plot(\n",
    "    interp_output[\"lag\"],\n",
    "    interp_output[\"sf_2\"],\n",
    "    label=\"Naive Handling\",\n",
    "    color=\"red\",\n",
    ")\n",
    "\n",
    "ax.set_xscale(\"log\")\n",
    "ax.set_yscale(\"log\")\n",
    "ax.set_xlabel(\"Lag Time (s)\")\n",
    "ax.set_ylabel(\"Structure Function\")\n",
    "ax.legend()\n",
    "\n",
    "plt.show()"
   ]
  },
  {
   "cell_type": "markdown",
   "metadata": {},
   "source": [
    "### Correcting SF"
   ]
  },
  {
   "cell_type": "code",
   "execution_count": 22,
   "metadata": {},
   "outputs": [],
   "source": [
    "# Importing lookup table\n",
    "n_bins = 25\n",
    "with open(f\"../results/{run_mode}/correction_lookup_3d_{n_bins}_bins_lint.pkl\", \"rb\") as f:\n",
    "    correction_lookup_3d = pickle.load(f)"
   ]
  },
  {
   "cell_type": "markdown",
   "metadata": {},
   "source": [
    "## Smoothing correction\n",
    "\n",
    "Previous method, employed in first paper submission, involved Gaussian blurring the heatmaps to create `correction_lookup_3d_blurred`, which replaced `correction_lookup_3d` in the following script. *See the GitHub, main branch, for this code.*\n",
    "\n",
    "This time we are smoothing the actual correction values for each specific SF; this is done below and applied to the interval from the paper.\n"
   ]
  },
  {
   "cell_type": "code",
   "execution_count": 23,
   "metadata": {},
   "outputs": [
    {
     "name": "stdout",
     "output_type": "stream",
     "text": [
      "Loaded 3D lookup table with 25 bins\n"
     ]
    }
   ],
   "source": [
    "# Apply 2D and 3D scaling to test set, report avg errors\n",
    "\n",
    "sfs_lint_corrected_3d = sf.compute_scaling(sfs_gapped, 3, correction_lookup_3d, n_bins)"
   ]
  },
  {
   "cell_type": "code",
   "execution_count": 24,
   "metadata": {},
   "outputs": [],
   "source": [
    "from scipy.interpolate import interp1d\n",
    "\n",
    "\n",
    "# Smoothing function\n",
    "def smooth_scaling(x, y, num_bins=20):\n",
    "    bin_edges = np.logspace(np.log10(x.min()), np.log10(x.max()), num_bins)\n",
    "    bin_centers = 0.5 * (bin_edges[:-1] + bin_edges[1:])\n",
    "    y_binned = np.array(\n",
    "        [\n",
    "            y[(x >= bin_edges[i]) & (x < bin_edges[i + 1])].mean()\n",
    "            for i in range(len(bin_edges) - 1)\n",
    "        ]\n",
    "    )\n",
    "\n",
    "    # Preserve the first and last values to prevent edge distortions\n",
    "    # during extrapolation\n",
    "    full_bins = np.insert(bin_centers, 0, bin_edges[0])\n",
    "    full_bins = np.append(full_bins, bin_edges[-1])\n",
    "    full_y_binned = np.insert(y_binned, 0, y.iloc[0])\n",
    "    full_y_binned = np.append(full_y_binned, y.iloc[-1])\n",
    "\n",
    "    interp_func = interp1d(\n",
    "        full_bins, full_y_binned, kind=\"cubic\", fill_value=\"extrapolate\"\n",
    "    )\n",
    "    return interp_func(x)"
   ]
  },
  {
   "cell_type": "code",
   "execution_count": 25,
   "metadata": {},
   "outputs": [
    {
     "data": {
      "text/plain": [
       "array([1])"
      ]
     },
     "execution_count": 25,
     "metadata": {},
     "output_type": "execute_result"
    }
   ],
   "source": [
    "sfs_lint_corrected_3d.int_index.unique()"
   ]
  },
  {
   "cell_type": "code",
   "execution_count": 26,
   "metadata": {},
   "outputs": [],
   "source": [
    "single_sf = sfs_lint_corrected_3d[\n",
    "    (sfs_lint_corrected_3d[\"int_index\"] == int_index)\n",
    "    & (sfs_lint_corrected_3d[\"version\"] == version)\n",
    "]\n",
    "\n",
    "scaling_smooth = smooth_scaling(single_sf.lag, single_sf.scaling)\n",
    "scaling_lower_smooth = smooth_scaling(single_sf.lag, single_sf.scaling_lower)\n",
    "scaling_upper_smooth = smooth_scaling(single_sf.lag, single_sf.scaling_upper)\n",
    "\n",
    "# Save to the main dataframe\n",
    "sfs_lint_corrected_3d.loc[\n",
    "    (sfs_lint_corrected_3d[\"int_index\"] == int_index)\n",
    "    & (sfs_lint_corrected_3d[\"version\"] == version),\n",
    "    \"scaling_smooth\",\n",
    "] = scaling_smooth\n",
    "\n",
    "sfs_lint_corrected_3d.loc[\n",
    "    (sfs_lint_corrected_3d[\"int_index\"] == int_index)\n",
    "    & (sfs_lint_corrected_3d[\"version\"] == version),\n",
    "    \"scaling_lower_smooth\",\n",
    "] = scaling_lower_smooth\n",
    "\n",
    "sfs_lint_corrected_3d.loc[\n",
    "    (sfs_lint_corrected_3d[\"int_index\"] == int_index)\n",
    "    & (sfs_lint_corrected_3d[\"version\"] == version),\n",
    "    \"scaling_upper_smooth\",\n",
    "] = scaling_upper_smooth\n",
    "\n",
    "# Apply scalings\n",
    "sfs_lint_corrected_3d[\"sf_2_corrected_3d\"] = (\n",
    "    sfs_lint_corrected_3d[\"sf_2\"] * sfs_lint_corrected_3d[\"scaling_smooth\"]\n",
    ")\n",
    "sfs_lint_corrected_3d[\"sf_2_lower_corrected_3d\"] = (\n",
    "    sfs_lint_corrected_3d[\"sf_2\"] * sfs_lint_corrected_3d[\"scaling_lower_smooth\"]\n",
    ")\n",
    "sfs_lint_corrected_3d[\"sf_2_upper_corrected_3d\"] = (\n",
    "    sfs_lint_corrected_3d[\"sf_2\"] * sfs_lint_corrected_3d[\"scaling_upper_smooth\"]\n",
    ")"
   ]
  },
  {
   "cell_type": "code",
   "execution_count": 27,
   "metadata": {},
   "outputs": [],
   "source": [
    "correction_wide = sfs_lint_corrected_3d[\n",
    "    [\n",
    "        \"file_index\",\n",
    "        \"int_index\",\n",
    "        \"version\",\n",
    "        \"lag\",\n",
    "        \"missing_percent\",\n",
    "        \"sf_2_corrected_3d\",\n",
    "    ]\n",
    "]\n",
    "correction_long = pd.wide_to_long(\n",
    "    correction_wide,\n",
    "    [\"sf_2\"],\n",
    "    i=[\"file_index\", \"int_index\", \"version\", \"lag\", \"missing_percent\"],\n",
    "    j=\"gap_handling\",\n",
    "    sep=\"_\",\n",
    "    suffix=r\"\\w+\",\n",
    ")\n",
    "correction_bounds_wide = sfs_lint_corrected_3d[\n",
    "    [\n",
    "        \"file_index\",\n",
    "        \"int_index\",\n",
    "        \"version\",\n",
    "        \"lag\",\n",
    "        \"missing_percent\",\n",
    "        \"sf_2_lower_corrected_3d\",\n",
    "        \"sf_2_upper_corrected_3d\",\n",
    "    ]\n",
    "]\n",
    "\n",
    "correction_bounds_long = pd.wide_to_long(\n",
    "    correction_bounds_wide,\n",
    "    [\"sf_2_lower\", \"sf_2_upper\"],\n",
    "    i=[\"file_index\", \"int_index\", \"version\", \"lag\", \"missing_percent\"],\n",
    "    j=\"gap_handling\",\n",
    "    sep=\"_\",\n",
    "    suffix=r\"\\w+\",\n",
    ")\n",
    "\n",
    "corrections_long = pd.merge(\n",
    "    correction_long,\n",
    "    correction_bounds_long,\n",
    "    how=\"inner\",\n",
    "    on=[\n",
    "        \"file_index\",\n",
    "        \"int_index\",\n",
    "        \"version\",\n",
    "        \"lag\",\n",
    "        \"missing_percent\",\n",
    "        \"gap_handling\",\n",
    "    ],\n",
    ").reset_index()\n",
    "\n",
    "# Adding the corrections, now as a form of \"gap_handling\", back to the gapped SF dataframe\n",
    "sfs_gapped_corrected = pd.concat([sfs_gapped, corrections_long])"
   ]
  },
  {
   "cell_type": "markdown",
   "metadata": {},
   "source": [
    "## Calculate slopes and scales\n",
    "### Initialise interval-specific statistics dataframe"
   ]
  },
  {
   "cell_type": "code",
   "execution_count": 43,
   "metadata": {},
   "outputs": [
    {
     "data": {
      "application/vnd.microsoft.datawrangler.viewer.v0+json": {
       "columns": [
        {
         "name": "index",
         "rawType": "float64",
         "type": "float"
        },
        {
         "name": "file_index",
         "rawType": "int64",
         "type": "integer"
        },
        {
         "name": "int_index",
         "rawType": "int64",
         "type": "integer"
        },
        {
         "name": "version",
         "rawType": "int64",
         "type": "integer"
        },
        {
         "name": "gap_handling",
         "rawType": "object",
         "type": "string"
        }
       ],
       "conversionMethod": "pd.DataFrame",
       "ref": "d21392fb-b850-4cc4-9948-2df060117171",
       "rows": [
        [
         "1.0",
         "0",
         "1",
         "0",
         "corrected_3d"
        ]
       ],
       "shape": {
        "columns": 4,
        "rows": 1
       }
      },
      "text/html": [
       "<div>\n",
       "<style scoped>\n",
       "    .dataframe tbody tr th:only-of-type {\n",
       "        vertical-align: middle;\n",
       "    }\n",
       "\n",
       "    .dataframe tbody tr th {\n",
       "        vertical-align: top;\n",
       "    }\n",
       "\n",
       "    .dataframe thead th {\n",
       "        text-align: right;\n",
       "    }\n",
       "</style>\n",
       "<table border=\"1\" class=\"dataframe\">\n",
       "  <thead>\n",
       "    <tr style=\"text-align: right;\">\n",
       "      <th></th>\n",
       "      <th>file_index</th>\n",
       "      <th>int_index</th>\n",
       "      <th>version</th>\n",
       "      <th>gap_handling</th>\n",
       "    </tr>\n",
       "  </thead>\n",
       "  <tbody>\n",
       "    <tr>\n",
       "      <th>1.0</th>\n",
       "      <td>0</td>\n",
       "      <td>1</td>\n",
       "      <td>0</td>\n",
       "      <td>corrected_3d</td>\n",
       "    </tr>\n",
       "  </tbody>\n",
       "</table>\n",
       "</div>"
      ],
      "text/plain": [
       "     file_index  int_index  version  gap_handling\n",
       "1.0           0          1        0  corrected_3d"
      ]
     },
     "execution_count": 43,
     "metadata": {},
     "output_type": "execute_result"
    }
   ],
   "source": [
    "# We want a new ints_gapped_metadata dataframe that contains the metadata for the corrected SFs\n",
    "ints_gapped_metadata = sfs_gapped[[\"file_index\", \"int_index\", \"version\"]].drop_duplicates()\n",
    "ints_gapped_metadata[\"gap_handling\"] = \"corrected_3d\"\n",
    "ints_gapped_metadata"
   ]
  },
  {
   "cell_type": "markdown",
   "metadata": {},
   "source": [
    "### Calculate slopes and scales"
   ]
  },
  {
   "cell_type": "code",
   "execution_count": 40,
   "metadata": {},
   "outputs": [
    {
     "name": "stdout",
     "output_type": "stream",
     "text": [
      "<class 'pandas.core.frame.DataFrame'>\n",
      "Index: 1999 entries, 0.0 to 1998.0\n",
      "Data columns (total 11 columns):\n",
      " #   Column           Non-Null Count  Dtype  \n",
      "---  ------           --------------  -----  \n",
      " 0   lag              1999 non-null   float64\n",
      " 1   n                0 non-null      float64\n",
      " 2   missing_percent  1999 non-null   float64\n",
      " 3   sf_2             1999 non-null   float64\n",
      " 4   sf_2_se          0 non-null      float64\n",
      " 5   file_index       1999 non-null   int64  \n",
      " 6   int_index        1999 non-null   int64  \n",
      " 7   version          1999 non-null   int64  \n",
      " 8   gap_handling     1999 non-null   object \n",
      " 9   sf_2_lower       1999 non-null   float64\n",
      " 10  sf_2_upper       1999 non-null   float64\n",
      "dtypes: float64(7), int64(3), object(1)\n",
      "memory usage: 187.4+ KB\n"
     ]
    }
   ],
   "source": [
    "### Calculate stats\n",
    "\n",
    "pwrl_range = params.pwrl_range\n",
    "gap_handling = \"corrected_3d\"\n",
    "\n",
    "# Calculate power-law slope for 2D and 3D corrected SFs\n",
    "current_int = sfs_gapped_corrected.loc[\n",
    "    (sfs_gapped_corrected[\"file_index\"] == file_index)\n",
    "    & (sfs_gapped_corrected[\"int_index\"] == int_index)\n",
    "    & (sfs_gapped_corrected[\"version\"] == version)\n",
    "    & (sfs_gapped_corrected[\"gap_handling\"] == gap_handling)\n",
    "]\n",
    "\n",
    "current_int.info()"
   ]
  },
  {
   "cell_type": "code",
   "execution_count": 46,
   "metadata": {},
   "outputs": [
    {
     "name": "stderr",
     "output_type": "stream",
     "text": [
      "C:\\Users\\spann\\AppData\\Local\\Temp\\ipykernel_4356\\588453951.py:29: FutureWarning: The behavior of obj[i:j] with a float-dtype index is deprecated. In a future version, this will be treated as positional instead of label-based. For label-based slicing, use obj.loc[i:j] instead\n",
      "  power_law, 1 / current_int[\"lag\"][100:700], sf_corrected_es[100:700]\n"
     ]
    }
   ],
   "source": [
    "slope = np.polyfit(\n",
    "    np.log(\n",
    "        current_int.loc[\n",
    "            (current_int[\"lag\"] >= pwrl_range[0])\n",
    "            & (current_int[\"lag\"] <= pwrl_range[1]),\n",
    "            \"lag\",\n",
    "        ]\n",
    "    ),\n",
    "    np.log(\n",
    "        current_int.loc[\n",
    "            (current_int[\"lag\"] >= pwrl_range[0])\n",
    "            & (current_int[\"lag\"] <= pwrl_range[1]),\n",
    "            \"sf_2\",\n",
    "        ]\n",
    "    ),\n",
    "    1,\n",
    ")[0]\n",
    "\n",
    "# Fit a power law to the corrected SF\n",
    "from scipy.optimize import curve_fit\n",
    "\n",
    "\n",
    "def power_law(x, a, b):\n",
    "    return a * x**b\n",
    "\n",
    "sf_corrected_es = current_int[\"sf_2\"] * current_int[\"lag\"] / 6\n",
    "\n",
    "popt, pcov = curve_fit(\n",
    "    power_law, 1 / current_int[\"lag\"][100:700], sf_corrected_es[100:700]\n",
    ")\n",
    "\n",
    "# Get ACF from SF\n",
    "# var_signal = np.sum(np.var(input, axis=0))\n",
    "var_signal = 3\n",
    "# will always be this variance as we are using the standardised 3D SF\n",
    "acf_from_sf = 1 - (current_int.sf_2 / (2 * var_signal))\n",
    "current_int.loc[:, \"acf_from_sf\"] = acf_from_sf.astype(\"float32\")\n",
    "\n",
    "# Calculate correlation scale from acf_from_sf\n",
    "tce = utils.compute_outer_scale_exp_trick(\n",
    "    current_int[\"lag\"].values,\n",
    "    current_int[\"acf_from_sf\"].values,\n",
    "    plot=False,\n",
    ")\n",
    "# plt.show()\n",
    "# NB: if plotting, will not work if tce is not found\n",
    "\n",
    "ttu, taylor_scale_u_std = utils.compute_taylor_chuychai(\n",
    "    current_int[\"lag\"].values,\n",
    "    current_int[\"acf_from_sf\"].values,\n",
    "    tau_min=params.tau_min,\n",
    "    tau_max=params.tau_max,\n",
    ")"
   ]
  },
  {
   "cell_type": "markdown",
   "metadata": {},
   "source": [
    "### Save results to dataframe"
   ]
  },
  {
   "cell_type": "code",
   "execution_count": 47,
   "metadata": {},
   "outputs": [
    {
     "data": {
      "application/vnd.microsoft.datawrangler.viewer.v0+json": {
       "columns": [
        {
         "name": "index",
         "rawType": "float64",
         "type": "float"
        },
        {
         "name": "file_index",
         "rawType": "int64",
         "type": "integer"
        },
        {
         "name": "int_index",
         "rawType": "int64",
         "type": "integer"
        },
        {
         "name": "version",
         "rawType": "int64",
         "type": "integer"
        },
        {
         "name": "gap_handling",
         "rawType": "object",
         "type": "string"
        },
        {
         "name": "slope",
         "rawType": "float64",
         "type": "float"
        },
        {
         "name": "tce",
         "rawType": "float64",
         "type": "float"
        },
        {
         "name": "ttu",
         "rawType": "float64",
         "type": "float"
        },
        {
         "name": "slope_es",
         "rawType": "float64",
         "type": "float"
        }
       ],
       "conversionMethod": "pd.DataFrame",
       "ref": "c6236db1-fa22-4da2-b88c-e965cab4f67b",
       "rows": [
        [
         "1.0",
         "0",
         "1",
         "0",
         "corrected_3d",
         "0.35463637842025525",
         "1029.008",
         "6.011613191372082",
         "-1.2673329532458961"
        ]
       ],
       "shape": {
        "columns": 8,
        "rows": 1
       }
      },
      "text/html": [
       "<div>\n",
       "<style scoped>\n",
       "    .dataframe tbody tr th:only-of-type {\n",
       "        vertical-align: middle;\n",
       "    }\n",
       "\n",
       "    .dataframe tbody tr th {\n",
       "        vertical-align: top;\n",
       "    }\n",
       "\n",
       "    .dataframe thead th {\n",
       "        text-align: right;\n",
       "    }\n",
       "</style>\n",
       "<table border=\"1\" class=\"dataframe\">\n",
       "  <thead>\n",
       "    <tr style=\"text-align: right;\">\n",
       "      <th></th>\n",
       "      <th>file_index</th>\n",
       "      <th>int_index</th>\n",
       "      <th>version</th>\n",
       "      <th>gap_handling</th>\n",
       "      <th>slope</th>\n",
       "      <th>tce</th>\n",
       "      <th>ttu</th>\n",
       "      <th>slope_es</th>\n",
       "    </tr>\n",
       "  </thead>\n",
       "  <tbody>\n",
       "    <tr>\n",
       "      <th>1.0</th>\n",
       "      <td>0</td>\n",
       "      <td>1</td>\n",
       "      <td>0</td>\n",
       "      <td>corrected_3d</td>\n",
       "      <td>0.354636</td>\n",
       "      <td>1029.008</td>\n",
       "      <td>6.011613</td>\n",
       "      <td>-1.267333</td>\n",
       "    </tr>\n",
       "  </tbody>\n",
       "</table>\n",
       "</div>"
      ],
      "text/plain": [
       "     file_index  int_index  version  gap_handling     slope       tce  \\\n",
       "1.0           0          1        0  corrected_3d  0.354636  1029.008   \n",
       "\n",
       "          ttu  slope_es  \n",
       "1.0  6.011613 -1.267333  "
      ]
     },
     "execution_count": 47,
     "metadata": {},
     "output_type": "execute_result"
    }
   ],
   "source": [
    "if gap_handling != \"true\":\n",
    "    # Save metadata to the gapped metadata df\n",
    "\n",
    "    ints_gapped_metadata.loc[\n",
    "        (ints_gapped_metadata[\"file_index\"] == file_index)\n",
    "        & (ints_gapped_metadata[\"int_index\"] == int_index)\n",
    "        & (ints_gapped_metadata[\"version\"] == version)\n",
    "        & (ints_gapped_metadata[\"gap_handling\"] == gap_handling),\n",
    "        \"slope\",\n",
    "    ] = slope\n",
    "\n",
    "    ints_gapped_metadata.loc[\n",
    "        (ints_gapped_metadata[\"file_index\"] == file_index)\n",
    "        & (ints_gapped_metadata[\"int_index\"] == int_index)\n",
    "        & (ints_gapped_metadata[\"version\"] == version)\n",
    "        & (ints_gapped_metadata[\"gap_handling\"] == gap_handling),\n",
    "        \"tce\",\n",
    "    ] = tce\n",
    "\n",
    "    ints_gapped_metadata.loc[\n",
    "        (ints_gapped_metadata[\"file_index\"] == file_index)\n",
    "        & (ints_gapped_metadata[\"int_index\"] == int_index)\n",
    "        & (ints_gapped_metadata[\"version\"] == version)\n",
    "        & (ints_gapped_metadata[\"gap_handling\"] == gap_handling),\n",
    "        \"ttu\",\n",
    "    ] = ttu\n",
    "\n",
    "    ints_gapped_metadata.loc[\n",
    "        (ints_gapped_metadata[\"file_index\"] == file_index)\n",
    "        & (ints_gapped_metadata[\"int_index\"] == int_index)\n",
    "        & (ints_gapped_metadata[\"version\"] == version)\n",
    "        & (ints_gapped_metadata[\"gap_handling\"] == gap_handling),\n",
    "        \"slope_es\",\n",
    "    ] = popt[1]\n",
    "\n",
    "ints_gapped_metadata"
   ]
  },
  {
   "cell_type": "markdown",
   "metadata": {},
   "source": [
    "##############################################################"
   ]
  },
  {
   "cell_type": "markdown",
   "metadata": {},
   "source": [
    "## Calculate slope of equivalent spectrum of corrected SF"
   ]
  },
  {
   "cell_type": "code",
   "execution_count": null,
   "metadata": {},
   "outputs": [
    {
     "name": "stdout",
     "output_type": "stream",
     "text": [
      "-1.267213819472012\n"
     ]
    },
    {
     "data": {
      "image/png": "[encoded data removed]",
      "text/plain": [
       "<Figure size 300x200 with 1 Axes>"
      ]
     },
     "metadata": {},
     "output_type": "display_data"
    }
   ],
   "source": [
    "# # Fit a power law to the corrected SF\n",
    "# from scipy.optimize import curve_fit\n",
    "\n",
    "\n",
    "# def power_law(x, a, b):\n",
    "#     return a * x**b\n",
    "\n",
    "# # Just get the corrected SF for this interval\n",
    "# sf_corrected_raw = sfs_gapped_corrected.loc[\n",
    "#     (sfs_gapped_corrected[\"file_index\"] == file_index)\n",
    "#     & (sfs_gapped_corrected[\"int_index\"] == int_index)\n",
    "#     & (sfs_gapped_corrected[\"version\"] == version)\n",
    "#     & (sfs_gapped_corrected[\"gap_handling\"] == \"corrected_3d\"),\n",
    "#     [\"lag\", \"sf_2\"],\n",
    "# ]\n",
    "\n",
    "# sf_lags = sf_corrected_raw.lag.values\n",
    "# sf_corrected = sf_corrected_raw.sf_2.values\n",
    "# sf_corrected_es = sf_corrected * sf_lags / 6\n",
    "\n",
    "# popt, pcov = curve_fit(power_law, 1 / sf_lags[100:700], sf_corrected_es[100:700])\n",
    "\n",
    "# print(popt[1])\n",
    "\n",
    "# # Plotting the corrected structure function and the power law fit\n",
    "# plt.figure(figsize=(3, 2))\n",
    "# plt.loglog(1 / sf_lags, sf_corrected_es, label=\"Corrected SF\")\n",
    "# plt.loglog(\n",
    "#     1 / sf_lags[100:700],\n",
    "#     power_law(1 / sf_lags[100:700], *popt),\n",
    "#     label=f\"Power Law Fit: $a x^{{{popt[1]:.2f}}}$\",\n",
    "#     linestyle=\"--\",\n",
    "# )\n",
    "# plt.xlabel(\"1 / Lag ($s^{-1}$)\")\n",
    "# plt.ylabel(\"$\\\\frac{1}{6} \\\\tau$ SF\")\n",
    "# plt.title(\"Corrected Structure Function and Power Law Fit\")\n",
    "# plt.legend()\n",
    "# plt.show()"
   ]
  },
  {
   "cell_type": "markdown",
   "metadata": {},
   "source": [
    "Let's compare with the values for the uncorrected version (JUST LOOK AT SECOND VALUE OF FIRST ARRAY)"
   ]
  },
  {
   "cell_type": "code",
   "execution_count": 30,
   "metadata": {},
   "outputs": [],
   "source": [
    "# sf_corrected_raw = sfs_gapped_corrected.loc[\n",
    "#     (sfs_gapped_corrected[\"file_index\"] == file_index)\n",
    "#     & (sfs_gapped_corrected[\"int_index\"] == int_index)\n",
    "#     & (sfs_gapped_corrected[\"version\"] == version)\n",
    "#     & (sfs_gapped_corrected[\"gap_handling\"] == \"lint\"),\n",
    "#     [\"lag\", \"sf_2\"],\n",
    "# ]\n",
    "\n",
    "# sf_corrected = sf_corrected_raw.sf_2.values\n",
    "# sf_corrected_es = sf_corrected * sf_lags / 6\n",
    "\n",
    "# curve_fit(power_law, 1 / sf_lags[100:700], sf_corrected_es[100:700])"
   ]
  },
  {
   "cell_type": "code",
   "execution_count": 33,
   "metadata": {},
   "outputs": [
    {
     "data": {
      "image/png": "[encoded data removed]",
      "text/plain": [
       "<Figure size 700x600 with 3 Axes>"
      ]
     },
     "metadata": {},
     "output_type": "display_data"
    }
   ],
   "source": [
    "# fig, ax = plt.subplots(1, 3, figsize=(8, 2), constrained_layout=True)\n",
    "fig = plt.figure(figsize=(7, 6))\n",
    "\n",
    "gs = gridspec.GridSpec(2, 2, height_ratios=[1, 1])\n",
    "gs.update(hspace=0.3, wspace=0.3)  # Change 0.5 to control the spacing\n",
    "# First row, spanning both columns\n",
    "ax1 = fig.add_subplot(gs[0, :])\n",
    "\n",
    "# Second row, first column\n",
    "ax2 = fig.add_subplot(gs[1, 0])\n",
    "\n",
    "# Second row, second column\n",
    "ax3 = fig.add_subplot(gs[1, 1])\n",
    "\n",
    "\n",
    "file_index = 0\n",
    "int_index = 1\n",
    "version = 0\n",
    "\n",
    "ax1.plot(bad_input.index, bad_input[\"BR\"], color=\"black\", lw=0.3, label=\"Raw\")\n",
    "# ax1.plot(\n",
    "#     interp_input_df[\"Time\"],\n",
    "#     interp_input_df[\"BR\"],\n",
    "#     color=\"black\",\n",
    "#     lw=1,\n",
    "#     label=\"Linearly interpolated\",\n",
    "# )\n",
    "ax1.set_xlabel(\"Date\")\n",
    "ax1.set_ylabel(r\"$B_R$ (normalized)\")\n",
    "ax1.xaxis.set_major_formatter(\n",
    "    mdates.ConciseDateFormatter(ax1.xaxis.get_major_locator())\n",
    ")\n",
    "# ax1.set_title(\"Magnetic field @ 154 AU (Voyager 1, interstellar medium)\"),\n",
    "# ax1.set_title(\"Magnetic field @ 118 AU (Voyager 1, inner heliosheath)\")\n",
    "\n",
    "ax1.annotate(\n",
    "    f\"Location: 118 au\\n \\\n",
    "    Duration: {np.round(tc*10/(24*60*60),1)} days ($10\\\\lambda_C$)\\n \\\n",
    "    Sparsity: {float(missing*100):.1f}\\%\",\n",
    "    xy=(1, 1),\n",
    "    xycoords=\"axes fraction\",\n",
    "    xytext=(0.03, 0.65),  # 0.1 / 0.65\n",
    "    textcoords=\"axes fraction\",\n",
    "    transform=ax1.transAxes,\n",
    "    c=\"black\",\n",
    "    # bbox=dict(facecolor=\"lightgrey\", edgecolor=\"white\", boxstyle=\"round\", alpha=0.7),\n",
    ")\n",
    "\n",
    "ax1.annotate(\n",
    "    r\"VOYAGER INTERVAL (1): \\textbf{INNER HELIOSHEATH}\",\n",
    "    xy=(1, 1),\n",
    "    xycoords=\"axes fraction\",\n",
    "    xytext=(0.03, 0.9),  # 0.03 / 0.28\n",
    "    textcoords=\"axes fraction\",\n",
    "    transform=ax1.transAxes,\n",
    "    c=\"black\",\n",
    "    # bbox=dict(facecolor=\"lightgrey\", edgecolor=\"white\", boxstyle=\"round\", alpha=0.7),\n",
    ")\n",
    "\n",
    "ax2.set_xlabel(\"Lag (s)\")\n",
    "ax2.set_ylabel(\"SF\")\n",
    "\n",
    "ax2.plot(\n",
    "    sfs_gapped_corrected.loc[\n",
    "        (sfs_gapped_corrected[\"file_index\"] == file_index)\n",
    "        & (sfs_gapped_corrected[\"int_index\"] == int_index)\n",
    "        & (sfs_gapped_corrected[\"version\"] == version)\n",
    "        & (sfs_gapped_corrected[\"gap_handling\"] == \"naive\"),\n",
    "        \"lag\",\n",
    "    ]\n",
    "    * new_cadence,\n",
    "    sfs_gapped_corrected.loc[\n",
    "        (sfs_gapped_corrected[\"file_index\"] == file_index)\n",
    "        & (sfs_gapped_corrected[\"int_index\"] == int_index)\n",
    "        & (sfs_gapped_corrected[\"version\"] == version)\n",
    "        & (sfs_gapped_corrected[\"gap_handling\"] == \"naive\"),\n",
    "        \"sf_2\",\n",
    "    ],\n",
    "    color=\"red\",\n",
    "    lw=1,\n",
    "    label=\"Naive\",\n",
    ")\n",
    "ax2.plot(\n",
    "    sfs_gapped_corrected.loc[\n",
    "        (sfs_gapped_corrected[\"file_index\"] == file_index)\n",
    "        & (sfs_gapped_corrected[\"int_index\"] == int_index)\n",
    "        & (sfs_gapped_corrected[\"version\"] == version)\n",
    "        & (sfs_gapped_corrected[\"gap_handling\"] == \"lint\"),\n",
    "        \"lag\",\n",
    "    ]\n",
    "    * new_cadence,\n",
    "    sfs_gapped_corrected.loc[\n",
    "        (sfs_gapped_corrected[\"file_index\"] == file_index)\n",
    "        & (sfs_gapped_corrected[\"int_index\"] == int_index)\n",
    "        & (sfs_gapped_corrected[\"version\"] == version)\n",
    "        & (sfs_gapped_corrected[\"gap_handling\"] == \"lint\"),\n",
    "        \"sf_2\",\n",
    "    ],\n",
    "    color=\"black\",\n",
    "    lw=1,\n",
    "    label=\"LINT\",\n",
    ")\n",
    "ax2.plot(\n",
    "    sfs_gapped_corrected.loc[\n",
    "        (sfs_gapped_corrected[\"file_index\"] == file_index)\n",
    "        & (sfs_gapped_corrected[\"int_index\"] == int_index)\n",
    "        & (sfs_gapped_corrected[\"version\"] == version)\n",
    "        & (sfs_gapped_corrected[\"gap_handling\"] == \"corrected_3d\"),\n",
    "        \"lag\",\n",
    "    ]\n",
    "    * new_cadence,\n",
    "    sfs_gapped_corrected.loc[\n",
    "        (sfs_gapped_corrected[\"file_index\"] == file_index)\n",
    "        & (sfs_gapped_corrected[\"int_index\"] == int_index)\n",
    "        & (sfs_gapped_corrected[\"version\"] == version)\n",
    "        & (sfs_gapped_corrected[\"gap_handling\"] == \"corrected_3d\"),\n",
    "        \"sf_2\",\n",
    "    ],\n",
    "    color=\"#1b9e77\",\n",
    "    lw=1,\n",
    "    label=\"Corrected\",\n",
    ")\n",
    "ax2.fill_between(\n",
    "    sfs_gapped_corrected.loc[\n",
    "        (sfs_gapped_corrected[\"file_index\"] == file_index)\n",
    "        & (sfs_gapped_corrected[\"int_index\"] == int_index)\n",
    "        & (sfs_gapped_corrected[\"version\"] == version)\n",
    "        & (sfs_gapped_corrected[\"gap_handling\"] == \"corrected_3d\"),\n",
    "        \"lag\",\n",
    "    ]\n",
    "    * new_cadence,\n",
    "    sfs_gapped_corrected.loc[\n",
    "        (sfs_gapped_corrected[\"file_index\"] == file_index)\n",
    "        & (sfs_gapped_corrected[\"int_index\"] == int_index)\n",
    "        & (sfs_gapped_corrected[\"version\"] == version)\n",
    "        & (sfs_gapped_corrected[\"gap_handling\"] == \"corrected_3d\"),\n",
    "        \"sf_2_lower\",\n",
    "    ],\n",
    "    sfs_gapped_corrected.loc[\n",
    "        (sfs_gapped_corrected[\"file_index\"] == file_index)\n",
    "        & (sfs_gapped_corrected[\"int_index\"] == int_index)\n",
    "        & (sfs_gapped_corrected[\"version\"] == version)\n",
    "        & (sfs_gapped_corrected[\"gap_handling\"] == \"corrected_3d\"),\n",
    "        \"sf_2_upper\",\n",
    "    ],\n",
    "    color=\"#1b9e77\",\n",
    "    alpha=0.2,\n",
    ")\n",
    "ax2.legend(loc=\"upper left\")  # lower right\n",
    "ax2.semilogx()\n",
    "ax2.semilogy()\n",
    "\n",
    "# Third panel (bottom right)\n",
    "ax3.plot(\n",
    "    1 / (sf_lags * new_cadence),\n",
    "    sf_corrected_es,\n",
    "    label=\"Equiv. spectrum\",\n",
    "    c=\"#1b9e77\",\n",
    ")\n",
    "ax3.plot(\n",
    "    1 / (sf_lags[100:700] * new_cadence),\n",
    "    power_law(1 / sf_lags[100:700], *popt) / 5,\n",
    "    label=\"Slope = {:.2f}\".format(popt[1]),\n",
    "    ls=\"--\",\n",
    "    color=\"black\",\n",
    ")\n",
    "ax3.semilogx()\n",
    "ax3.semilogy()\n",
    "ax3.legend(loc=\"upper right\")\n",
    "ax3.set_xlabel(\"1/Lag ($s^{-1}$)\")\n",
    "ax3.set_ylabel(r\"$\\frac{1}{6} \\tau$ SF\")\n",
    "# plt.savefig(\"plots/results/final/voyager_ihs.pdf\")\n",
    "plt.show()"
   ]
  }
 ],
 "metadata": {
  "kernelspec": {
   "display_name": "venv",
   "language": "python",
   "name": "python3"
  },
  "language_info": {
   "codemirror_mode": {
    "name": "ipython",
    "version": 3
   },
   "file_extension": ".py",
   "mimetype": "text/x-python",
   "name": "python",
   "nbconvert_exporter": "python",
   "pygments_lexer": "ipython3",
   "version": "3.10.4"
  },
  "orig_nbformat": 2
 },
 "nbformat": 4,
 "nbformat_minor": 2
}
