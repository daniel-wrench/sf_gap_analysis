{
  "cells": [
    {
      "cell_type": "markdown",
      "metadata": {},
      "source": [
        "\n",
        "# Getting data from CDAWeb\n",
        "\n",
        "*Really nice, much cleaner and faster than before, both downloading and importing. Now, introduce it into 1_compute_sfs, just noting annoying issue with variable names.\n",
        "\n",
        "Using Sunpy to download data from CDAWeb using its Fido interface. To lookup the different dataset IDs available, you can use the form at https://cdaweb.gsfc.nasa.gov/index.html/\n",
        "Tick the name of the spacecraft you want, hit submit, and you'll be a given a list of all the data products for that spacecraft. Copy and paste the name into the `a.cdaweb.Dataset(\"\")` below, choose your time range `trange`, and you're away!"
      ]
    },
    {
      "cell_type": "markdown",
      "metadata": {},
      "source": [
        "## Data download"
      ]
    },
    {
      "cell_type": "code",
      "execution_count": 2,
      "metadata": {
        "collapsed": false
      },
      "outputs": [],
      "source": [
        "from sunpy.net import Fido\n",
        "from sunpy.net import attrs as a\n",
        "from sunpy.timeseries import TimeSeries"
      ]
    },
    {
      "cell_type": "code",
      "execution_count": 3,
      "metadata": {},
      "outputs": [],
      "source": [
        "# \"WI_H2_MFI\"\n",
        "# \"PSP_FLD_L2_MAG_RTN\"\n",
        "# \"VOYAGER1_48S_MAG-VIM\""
      ]
    },
    {
      "cell_type": "code",
      "execution_count": 4,
      "metadata": {
        "collapsed": false
      },
      "outputs": [
        {
          "name": "stdout",
          "output_type": "stream",
          "text": [
            "Results from 1 Provider:\n",
            "\n",
            "2 Results from the CDAWEBClient:\n",
            "Source: https://cdaweb.gsfc.nasa.gov/index.html\n",
            "\n",
            " Dataset         Start time               End time       \n",
            "--------- ----------------------- -----------------------\n",
            "WI_H2_MFI 1996-10-15 00:00:00.000 1996-10-15 23:59:59.000\n",
            "WI_H2_MFI 1996-10-16 00:00:00.000 1996-10-16 23:59:59.000\n",
            "\n",
            "\n"
          ]
        }
      ],
      "source": [
        "trange = a.Time(\"1996-10-15 00:00\", \"1996-10-16 00:00\")\n",
        "dataset = a.cdaweb.Dataset(\"WI_H2_MFI\")\n",
        "result = Fido.search(trange, dataset)\n",
        "print(result)"
      ]
    },
    {
      "cell_type": "markdown",
      "metadata": {},
      "source": [
        "Datasets are 6-hourly"
      ]
    },
    {
      "cell_type": "code",
      "execution_count": 4,
      "metadata": {
        "collapsed": false
      },
      "outputs": [
        {
          "data": {
            "application/vnd.jupyter.widget-view+json": {
              "model_id": "abe992bdb7af4682991c81d76a741e66",
              "version_major": 2,
              "version_minor": 0
            },
            "text/plain": [
              "Files Downloaded:   0%|          | 0/1 [00:00<?, ?file/s]"
            ]
          },
          "metadata": {},
          "output_type": "display_data"
        },
        {
          "name": "stdout",
          "output_type": "stream",
          "text": [
            "['C:\\\\Users\\\\spann\\\\data\\\\raw\\\\voyager\\\\voyager1_48s_mag-vim_20210101_v01.cdf']\n"
          ]
        }
      ],
      "source": [
        "downloaded_files = Fido.fetch(result[0, 0:2], path=\"data/raw/voyager/\")\n",
        "print(downloaded_files)"
      ]
    },
    {
      "cell_type": "markdown",
      "metadata": {},
      "source": [
        "## Data reading"
      ]
    },
    {
      "cell_type": "code",
      "execution_count": 5,
      "metadata": {},
      "outputs": [
        {
          "data": {
            "text/plain": [
              "['BN',\n",
              " 'BR',\n",
              " 'BT',\n",
              " 'F1',\n",
              " 'dBN',\n",
              " 'dBR',\n",
              " 'dBT',\n",
              " 'dF',\n",
              " 'spacecraftID',\n",
              " 'Radius',\n",
              " 'hg_lat',\n",
              " 'hg_lon',\n",
              " 'hgi_lon']"
            ]
          },
          "execution_count": 5,
          "metadata": {},
          "output_type": "execute_result"
        }
      ],
      "source": [
        "data = TimeSeries(downloaded_files, concatenate=True)\n",
        "data.columns"
      ]
    },
    {
      "cell_type": "code",
      "execution_count": 6,
      "metadata": {},
      "outputs": [
        {
          "data": {
            "image/png": "[encoded data removed]",
            "text/plain": [
              "<Figure size 640x480 with 1 Axes>"
            ]
          },
          "metadata": {},
          "output_type": "display_data"
        }
      ],
      "source": [
        "data.truncate(\"2021/02/01 00:00\", \"2021/02/07 00:00\").peek(columns=data.columns[0:3])"
      ]
    },
    {
      "cell_type": "code",
      "execution_count": 7,
      "metadata": {},
      "outputs": [
        {
          "data": {
            "text/plain": [
              "Timedelta('0 days 00:00:47.520000')"
            ]
          },
          "execution_count": 7,
          "metadata": {},
          "output_type": "execute_result"
        }
      ],
      "source": [
        "df = data.to_dataframe()\n",
        "\n",
        "# Calculate the cadence of the time series\n",
        "cadence = df.index.to_series().diff().mode()[0]\n",
        "cadence"
      ]
    },
    {
      "cell_type": "code",
      "execution_count": 8,
      "metadata": {},
      "outputs": [
        {
          "data": {
            "text/html": [
              "<div>\n",
              "<style scoped>\n",
              "    .dataframe tbody tr th:only-of-type {\n",
              "        vertical-align: middle;\n",
              "    }\n",
              "\n",
              "    .dataframe tbody tr th {\n",
              "        vertical-align: top;\n",
              "    }\n",
              "\n",
              "    .dataframe thead th {\n",
              "        text-align: right;\n",
              "    }\n",
              "</style>\n",
              "<table border=\"1\" class=\"dataframe\">\n",
              "  <thead>\n",
              "    <tr style=\"text-align: right;\">\n",
              "      <th></th>\n",
              "      <th>BN</th>\n",
              "      <th>BR</th>\n",
              "      <th>BT</th>\n",
              "      <th>F1</th>\n",
              "      <th>dBN</th>\n",
              "      <th>dBR</th>\n",
              "      <th>dBT</th>\n",
              "      <th>dF</th>\n",
              "      <th>spacecraftID</th>\n",
              "      <th>Radius</th>\n",
              "      <th>hg_lat</th>\n",
              "      <th>hg_lon</th>\n",
              "      <th>hgi_lon</th>\n",
              "    </tr>\n",
              "  </thead>\n",
              "  <tbody>\n",
              "    <tr>\n",
              "      <th>2021-01-01 00:00:00</th>\n",
              "      <td>NaN</td>\n",
              "      <td>NaN</td>\n",
              "      <td>NaN</td>\n",
              "      <td>NaN</td>\n",
              "      <td>NaN</td>\n",
              "      <td>NaN</td>\n",
              "      <td>NaN</td>\n",
              "      <td>NaN</td>\n",
              "      <td>NaN</td>\n",
              "      <td>151.419998</td>\n",
              "      <td>34.799999</td>\n",
              "      <td>70.900002</td>\n",
              "      <td>175.300003</td>\n",
              "    </tr>\n",
              "    <tr>\n",
              "      <th>2021-01-01 00:00:50</th>\n",
              "      <td>NaN</td>\n",
              "      <td>NaN</td>\n",
              "      <td>NaN</td>\n",
              "      <td>NaN</td>\n",
              "      <td>NaN</td>\n",
              "      <td>NaN</td>\n",
              "      <td>NaN</td>\n",
              "      <td>NaN</td>\n",
              "      <td>NaN</td>\n",
              "      <td>NaN</td>\n",
              "      <td>NaN</td>\n",
              "      <td>NaN</td>\n",
              "      <td>NaN</td>\n",
              "    </tr>\n",
              "    <tr>\n",
              "      <th>2021-01-01 00:01:40</th>\n",
              "      <td>NaN</td>\n",
              "      <td>NaN</td>\n",
              "      <td>NaN</td>\n",
              "      <td>NaN</td>\n",
              "      <td>NaN</td>\n",
              "      <td>NaN</td>\n",
              "      <td>NaN</td>\n",
              "      <td>NaN</td>\n",
              "      <td>NaN</td>\n",
              "      <td>NaN</td>\n",
              "      <td>NaN</td>\n",
              "      <td>NaN</td>\n",
              "      <td>NaN</td>\n",
              "    </tr>\n",
              "    <tr>\n",
              "      <th>2021-01-01 00:02:30</th>\n",
              "      <td>NaN</td>\n",
              "      <td>NaN</td>\n",
              "      <td>NaN</td>\n",
              "      <td>NaN</td>\n",
              "      <td>NaN</td>\n",
              "      <td>NaN</td>\n",
              "      <td>NaN</td>\n",
              "      <td>NaN</td>\n",
              "      <td>NaN</td>\n",
              "      <td>NaN</td>\n",
              "      <td>NaN</td>\n",
              "      <td>NaN</td>\n",
              "      <td>NaN</td>\n",
              "    </tr>\n",
              "    <tr>\n",
              "      <th>2021-01-01 00:03:20</th>\n",
              "      <td>NaN</td>\n",
              "      <td>NaN</td>\n",
              "      <td>NaN</td>\n",
              "      <td>NaN</td>\n",
              "      <td>NaN</td>\n",
              "      <td>NaN</td>\n",
              "      <td>NaN</td>\n",
              "      <td>NaN</td>\n",
              "      <td>NaN</td>\n",
              "      <td>NaN</td>\n",
              "      <td>NaN</td>\n",
              "      <td>NaN</td>\n",
              "      <td>NaN</td>\n",
              "    </tr>\n",
              "  </tbody>\n",
              "</table>\n",
              "</div>"
            ],
            "text/plain": [
              "                     BN  BR  BT  F1  dBN  dBR  dBT  dF  spacecraftID  \\\n",
              "2021-01-01 00:00:00 NaN NaN NaN NaN  NaN  NaN  NaN NaN           NaN   \n",
              "2021-01-01 00:00:50 NaN NaN NaN NaN  NaN  NaN  NaN NaN           NaN   \n",
              "2021-01-01 00:01:40 NaN NaN NaN NaN  NaN  NaN  NaN NaN           NaN   \n",
              "2021-01-01 00:02:30 NaN NaN NaN NaN  NaN  NaN  NaN NaN           NaN   \n",
              "2021-01-01 00:03:20 NaN NaN NaN NaN  NaN  NaN  NaN NaN           NaN   \n",
              "\n",
              "                         Radius     hg_lat     hg_lon     hgi_lon  \n",
              "2021-01-01 00:00:00  151.419998  34.799999  70.900002  175.300003  \n",
              "2021-01-01 00:00:50         NaN        NaN        NaN         NaN  \n",
              "2021-01-01 00:01:40         NaN        NaN        NaN         NaN  \n",
              "2021-01-01 00:02:30         NaN        NaN        NaN         NaN  \n",
              "2021-01-01 00:03:20         NaN        NaN        NaN         NaN  "
            ]
          },
          "execution_count": 8,
          "metadata": {},
          "output_type": "execute_result"
        }
      ],
      "source": [
        "df_res = df.resample(\n",
        "    \"50s\"\n",
        ").mean()  # This fixes the issue with the time series not being regular\n",
        "df_res.head()"
      ]
    },
    {
      "cell_type": "code",
      "execution_count": 9,
      "metadata": {},
      "outputs": [
        {
          "data": {
            "text/plain": [
              "0.7725760784220419"
            ]
          },
          "execution_count": 9,
          "metadata": {},
          "output_type": "execute_result"
        }
      ],
      "source": [
        "missing = df_res.iloc[:, 0].isna().sum() / len(df_res)\n",
        "missing"
      ]
    },
    {
      "cell_type": "code",
      "execution_count": 10,
      "metadata": {},
      "outputs": [
        {
          "data": {
            "text/plain": [
              "<Axes: >"
            ]
          },
          "execution_count": 10,
          "metadata": {},
          "output_type": "execute_result"
        },
        {
          "data": {
            "image/png": "[encoded data removed]",
            "text/plain": [
              "<Figure size 640x480 with 1 Axes>"
            ]
          },
          "metadata": {},
          "output_type": "display_data"
        }
      ],
      "source": [
        "df_res[[\"BR\", \"BT\", \"BN\"]][:\"2021/02/07 00:00\"].plot()"
      ]
    }
  ],
  "metadata": {
    "kernelspec": {
      "display_name": "venv",
      "language": "python",
      "name": "python3"
    },
    "language_info": {
      "codemirror_mode": {
        "name": "ipython",
        "version": 3
      },
      "file_extension": ".py",
      "mimetype": "text/x-python",
      "name": "python",
      "nbconvert_exporter": "python",
      "pygments_lexer": "ipython3",
      "version": "3.10.4"
    }
  },
  "nbformat": 4,
  "nbformat_minor": 0
}
